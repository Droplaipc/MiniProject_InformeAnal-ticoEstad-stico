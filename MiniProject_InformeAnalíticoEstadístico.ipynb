{
 "cells": [
  {
   "cell_type": "code",
   "execution_count": 1,
   "id": "5d240868",
   "metadata": {},
   "outputs": [
    {
     "name": "stdout",
     "output_type": "stream",
     "text": [
      "   total_bill   tip     sex smoker  day    time  size\n",
      "0       16.99  1.01  Female     No  Sun  Dinner     2\n",
      "1       10.34  1.66    Male     No  Sun  Dinner     3\n",
      "2       21.01  3.50    Male     No  Sun  Dinner     3\n",
      "3       23.68  3.31    Male     No  Sun  Dinner     2\n",
      "4       24.59  3.61  Female     No  Sun  Dinner     4\n"
     ]
    }
   ],
   "source": [
    "import pandas as pd\n",
    "import numpy as np\n",
    "from scipy import stats\n",
    "import statsmodels.formula.api as smf\n",
    "import matplotlib.pyplot as plt\n",
    "import seaborn as sns\n",
    "\n",
    "# Mini‑project: Informe de Análisis Estadístico sobre el dataset «tips» de seaborn\n",
    "# 1. Carga y vista preliminar del dataset\n",
    "df = sns.load_dataset('tips')\n",
    "print(df.head())\n"
   ]
  },
  {
   "cell_type": "code",
   "execution_count": 2,
   "id": "1f9c1dce",
   "metadata": {},
   "outputs": [
    {
     "name": "stdout",
     "output_type": "stream",
     "text": [
      "   total_bill   tip     sex smoker  day    time  size\n",
      "0       16.99  1.01  Female     No  Sun  Dinner     2\n",
      "1       10.34  1.66    Male     No  Sun  Dinner     3\n",
      "2       21.01  3.50    Male     No  Sun  Dinner     3\n",
      "3       23.68  3.31    Male     No  Sun  Dinner     2\n",
      "4       24.59  3.61  Female     No  Sun  Dinner     4\n"
     ]
    }
   ],
   "source": [
    "import pandas as pd\n",
    "import numpy as np\n",
    "from scipy import stats\n",
    "import statsmodels.formula.api as smf\n",
    "import matplotlib.pyplot as plt\n",
    "import seaborn as sns\n",
    "\n",
    "# Mini‑project: Informe de Análisis Estadístico sobre el dataset «tips» de seaborn\n",
    "# 1. Carga y vista preliminar del dataset\n",
    "df = sns.load_dataset('tips')\n",
    "print(df.head())"
   ]
  },
  {
   "cell_type": "markdown",
   "id": "a791d59c",
   "metadata": {},
   "source": [
    "# 2. Formulación de hipótesis\n",
    "### H₀: La propina media de fumadores y no fumadores es igual.\n",
    "### H₁: La propina media difiere entre fumadores y no fumadores."
   ]
  },
  {
   "cell_type": "code",
   "execution_count": 3,
   "id": "18c1b4d6",
   "metadata": {},
   "outputs": [
    {
     "name": "stdout",
     "output_type": "stream",
     "text": [
      "0    1.01\n",
      "1    1.66\n",
      "2    3.50\n",
      "3    3.31\n",
      "4    3.61\n",
      "Name: tip, dtype: float64\n",
      "56    3.00\n",
      "58    1.76\n",
      "60    3.21\n",
      "61    2.00\n",
      "62    1.98\n",
      "Name: tip, dtype: float64\n"
     ]
    }
   ],
   "source": [
    "\n",
    "# 3. Elección de prueba: t-test independiente (dos muestras)\n",
    "tips_smokers = df.loc[df['smoker']=='Yes', 'tip']\n",
    "tips_nonsmokers = df.loc[df['smoker']=='No', 'tip']\n",
    "\n",
    "print(tips_nonsmokers.head())\n",
    "print(tips_smokers.head())"
   ]
  },
  {
   "cell_type": "code",
   "execution_count": 4,
   "id": "c40f78a9",
   "metadata": {},
   "outputs": [
    {
     "name": "stdout",
     "output_type": "stream",
     "text": [
      "151\n",
      "93\n"
     ]
    }
   ],
   "source": [
    "print(tips_nonsmokers.size)\n",
    "print(tips_smokers.size)"
   ]
  },
  {
   "cell_type": "code",
   "execution_count": 5,
   "id": "4d6045cc",
   "metadata": {},
   "outputs": [
    {
     "name": "stdout",
     "output_type": "stream",
     "text": [
      "Shapiro fumadores: ShapiroResult(statistic=0.8788249661085323, pvalue=3.612564299352561e-07)\n",
      "Shapiro no fumadores: ShapiroResult(statistic=0.9040014583128897, pvalue=2.0587577392218136e-08)\n",
      "Para los fumadores. Se rechaza H0. La muestra no proviene de una normal.\n",
      "Para los no fumadores. Se rechaza H0. La muestra no proviene de una normal.\n"
     ]
    }
   ],
   "source": [
    "# 4. Verificación de supuestos\n",
    "#    4.1 Normalidad (Shapiro-Wilk)\n",
    "sh_s = stats.shapiro(tips_smokers)\n",
    "sh_ns = stats.shapiro(tips_nonsmokers)\n",
    "print(\"Shapiro fumadores:\", sh_s)\n",
    "print(\"Shapiro no fumadores:\", sh_ns)\n",
    "\n",
    "# Formulación de hipótesis\n",
    "# H₀: La muestra proviene de una normal.\n",
    "# H₁: La muestra no proviene de una normal.\n",
    "\n",
    "if sh_s.pvalue < 0.05:\n",
    "    print('Para los fumadores. Se rechaza H0. La muestra no proviene de una normal.')\n",
    "else:\n",
    "    print('Para los fumadores. No se rechaza H0. La muestra proviene de una normal.')\n",
    "\n",
    "if sh_ns.pvalue < 0.05:\n",
    "    print('Para los no fumadores. Se rechaza H0. La muestra no proviene de una normal.')\n",
    "else:\n",
    "    print('Para los no fumadores. No se rechaza H0. La muestra proviene de una normal.')\n"
   ]
  },
  {
   "cell_type": "code",
   "execution_count": 6,
   "id": "f98a8584",
   "metadata": {},
   "outputs": [
    {
     "name": "stdout",
     "output_type": "stream",
     "text": [
      "Levene: LeveneResult(statistic=0.02051159105706963, pvalue=0.8862366542563406)\n",
      "No se rechaza H0. Las muestras tienen varianzas homogéneas.\n"
     ]
    }
   ],
   "source": [
    "#    4.2 Homogeneidad de varianzas (Levene)\n",
    "lev = stats.levene(tips_smokers, tips_nonsmokers)\n",
    "print(\"Levene:\", lev)\n",
    "\n",
    "# Formulación de hipótesis\n",
    "# H₀: Las muestras tienen varianzas homogéneas.\n",
    "# H₁: Las muestras no tienen varianzas homogéneas.\n",
    "\n",
    "if lev.pvalue < 0.05:\n",
    "    print('Se rechaza H0. Las muestras no tienen varianzas homogéneas.')\n",
    "else:\n",
    "    print('No se rechaza H0. Las muestras tienen varianzas homogéneas.')\n"
   ]
  },
  {
   "cell_type": "code",
   "execution_count": 7,
   "id": "937dfae8",
   "metadata": {},
   "outputs": [
    {
     "name": "stdout",
     "output_type": "stream",
     "text": [
      "Mann-Whitney U: MannwhitneyuResult(statistic=7163.0, pvalue=0.7919240198382322)\n",
      "No se rechaza H0. Las medias son iguales.\n"
     ]
    }
   ],
   "source": [
    "# 5. Ejecución de puebea Mann-Whitney\n",
    "\n",
    "# Formulación de hipótesis\n",
    "# H₀: Las medias son iguales.\n",
    "# H₁: Las medias son diferentes.\n",
    "\n",
    "\n",
    "\n",
    "if sh_s.pvalue > 0.05 and sh_ns.pvalue > 0.05 and lev.pvalue > 0.05:\n",
    "    test = stats.ttest_ind(tips_smokers, tips_nonsmokers)\n",
    "    print(\"t-test:\", test)\n",
    "else:\n",
    "    test = stats.mannwhitneyu(tips_smokers, tips_nonsmokers)\n",
    "    print(\"Mann-Whitney U:\", test)\n",
    "\n",
    "\n",
    "if test.pvalue < 0.05:\n",
    "    print('Se rechaza H0. Las medias son diferentes.')\n",
    "else:\n",
    "    print('No se rechaza H0. Las medias son iguales.')\n"
   ]
  },
  {
   "cell_type": "code",
   "execution_count": 8,
   "id": "e7bb8f11",
   "metadata": {},
   "outputs": [
    {
     "name": "stdout",
     "output_type": "stream",
     "text": [
      "                            OLS Regression Results                            \n",
      "==============================================================================\n",
      "Dep. Variable:                    tip   R-squared:                       0.459\n",
      "Model:                            OLS   Adj. R-squared:                  0.455\n",
      "Method:                 Least Squares   F-statistic:                     102.4\n",
      "Date:                Mon, 04 Aug 2025   Prob (F-statistic):           6.57e-33\n",
      "Time:                        18:51:09   Log-Likelihood:                -349.93\n",
      "No. Observations:                 244   AIC:                             705.9\n",
      "Df Residuals:                     241   BIC:                             716.3\n",
      "Df Model:                           2                                         \n",
      "Covariance Type:            nonrobust                                         \n",
      "===================================================================================\n",
      "                      coef    std err          t      P>|t|      [0.025      0.975]\n",
      "-----------------------------------------------------------------------------------\n",
      "Intercept           0.8143      0.186      4.369      0.000       0.447       1.181\n",
      "C(smoker)[T.No]     0.1489      0.135      1.102      0.272      -0.117       0.415\n",
      "total_bill          0.1057      0.007     14.309      0.000       0.091       0.120\n",
      "==============================================================================\n",
      "Omnibus:                       23.655   Durbin-Watson:                   2.150\n",
      "Prob(Omnibus):                  0.000   Jarque-Bera (JB):               43.834\n",
      "Skew:                           0.524   Prob(JB):                     3.03e-10\n",
      "Kurtosis:                       4.792   Cond. No.                         68.0\n",
      "==============================================================================\n",
      "\n",
      "Notes:\n",
      "[1] Standard Errors assume that the covariance matrix of the errors is correctly specified.\n"
     ]
    }
   ],
   "source": [
    "# 6. Ajuste de modelo lineal para propina ~ total_bill + smoker\n",
    "model = smf.ols('tip ~ total_bill + C(smoker)', data=df).fit()\n",
    "print(model.summary())\n"
   ]
  },
  {
   "cell_type": "code",
   "execution_count": 9,
   "id": "c5c721e0",
   "metadata": {},
   "outputs": [
    {
     "name": "stdout",
     "output_type": "stream",
     "text": [
      "R²: 0.4593402086520325\n",
      "Residuos (primeros 5):\n",
      " 0   -1.749447\n",
      "1   -0.396393\n",
      "2    0.315549\n",
      "3   -0.156730\n",
      "4    0.047063\n",
      "dtype: float64\n"
     ]
    }
   ],
   "source": [
    "# 7. Diagnóstico rápido del modelo\n",
    "print(\"R²:\", model.rsquared)\n",
    "print(\"Residuos (primeros 5):\\n\", model.resid.head())\n"
   ]
  },
  {
   "cell_type": "code",
   "execution_count": 10,
   "id": "82332991",
   "metadata": {},
   "outputs": [
    {
     "data": {
      "image/png": "[encoded data removed]",
      "text/plain": [
       "<Figure size 600x400 with 1 Axes>"
      ]
     },
     "metadata": {},
     "output_type": "display_data"
    }
   ],
   "source": [
    "# 8. Visualización de resultados\n",
    "plt.figure(figsize=(6,4))\n",
    "sns.boxplot(x='smoker', y='tip', data=df)\n",
    "plt.title(\"Propinas: Fumadores vs No fumadores\")\n",
    "plt.show()"
   ]
  }
 ],
 "metadata": {
  "kernelspec": {
   "display_name": "torch2",
   "language": "python",
   "name": "python3"
  },
  "language_info": {
   "codemirror_mode": {
    "name": "ipython",
    "version": 3
   },
   "file_extension": ".py",
   "mimetype": "text/x-python",
   "name": "python",
   "nbconvert_exporter": "python",
   "pygments_lexer": "ipython3",
   "version": "3.11.11"
  }
 },
 "nbformat": 4,
 "nbformat_minor": 5
}
